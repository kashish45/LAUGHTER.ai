{
  "nbformat": 4,
  "nbformat_minor": 0,
  "metadata": {
    "colab": {
      "name": "Preprocessing_Chatbot",
      "provenance": []
    },
    "kernelspec": {
      "name": "python3",
      "display_name": "Python 3"
    },
    "accelerator": "GPU"
  },
  "cells": [
    {
      "cell_type": "code",
      "metadata": {
        "id": "olyx1cq_y_mN"
      },
      "source": [
        "import pandas as pd\r\n",
        "import numpy as np\r\n",
        "import random as rn\r\n",
        "import re\r\n",
        "import pickle\r\n",
        "import warnings\r\n",
        "warnings.filterwarnings(\"ignore\")\r\n",
        "from tqdm import tqdm\r\n",
        "\r\n",
        "import matplotlib.pyplot as plt\r\n",
        "%matplotlib inline\r\n",
        "\r\n",
        "import tensorflow as tf\r\n",
        "from tensorflow.keras.layers import Embedding, LSTM, Dense, Softmax\r\n",
        "from tensorflow.keras.models import Model\r\n",
        "from tensorflow.keras.preprocessing.text import Tokenizer\r\n",
        "from tensorflow.keras.preprocessing.sequence import pad_sequences\r\n",
        "\r\n",
        "# Load the TensorBoard notebook extension\r\n",
        "%load_ext tensorboard"
      ],
      "execution_count": null,
      "outputs": []
    },
    {
      "cell_type": "code",
      "metadata": {
        "colab": {
          "base_uri": "https://localhost:8080/",
          "height": 195
        },
        "id": "tpZ7jJgyzabT",
        "outputId": "643159c5-1089-4048-a545-9b2f26fe1667"
      },
      "source": [
        "data=pd.read_csv('/content/drive/MyDrive/NLP_sarcastic_totalCleaned.csv')\r\n",
        "data.head()"
      ],
      "execution_count": null,
      "outputs": [
        {
          "output_type": "execute_result",
          "data": {
            "text/html": [
              "<div>\n",
              "<style scoped>\n",
              "    .dataframe tbody tr th:only-of-type {\n",
              "        vertical-align: middle;\n",
              "    }\n",
              "\n",
              "    .dataframe tbody tr th {\n",
              "        vertical-align: top;\n",
              "    }\n",
              "\n",
              "    .dataframe thead th {\n",
              "        text-align: right;\n",
              "    }\n",
              "</style>\n",
              "<table border=\"1\" class=\"dataframe\">\n",
              "  <thead>\n",
              "    <tr style=\"text-align: right;\">\n",
              "      <th></th>\n",
              "      <th>Question</th>\n",
              "      <th>Answer</th>\n",
              "      <th>QuestionClean</th>\n",
              "      <th>AnswerClean</th>\n",
              "    </tr>\n",
              "  </thead>\n",
              "  <tbody>\n",
              "    <tr>\n",
              "      <th>0</th>\n",
              "      <td>How many Reddit admins does it take to change ...</td>\n",
              "      <td>None, they like to keep the mods in the dark.</td>\n",
              "      <td>how many reddit admins does it take to change ...</td>\n",
              "      <td>none they like to keep the mods in the dark</td>\n",
              "    </tr>\n",
              "    <tr>\n",
              "      <th>1</th>\n",
              "      <td>How many police officers does it take to chang...</td>\n",
              "      <td>None, because they'll just beat the room for b...</td>\n",
              "      <td>how many police officers does it take to chang...</td>\n",
              "      <td>none because they will just beat the room for ...</td>\n",
              "    </tr>\n",
              "    <tr>\n",
              "      <th>2</th>\n",
              "      <td>How many Kings of Spain does it take to screw ...</td>\n",
              "      <td>A: Juan</td>\n",
              "      <td>how many kings of spain does it take to screw ...</td>\n",
              "      <td>a juan</td>\n",
              "    </tr>\n",
              "    <tr>\n",
              "      <th>3</th>\n",
              "      <td>How many Alzheimer's patients does it take to ...</td>\n",
              "      <td>TO GET TO THE OTHER SIDE!</td>\n",
              "      <td>how many alzheimer is patients does it take to...</td>\n",
              "      <td>to get to the other side</td>\n",
              "    </tr>\n",
              "    <tr>\n",
              "      <th>4</th>\n",
              "      <td>How many people does it take to change a light...</td>\n",
              "      <td>A Brazillion!!! http://imgur.com/c4CJjUd</td>\n",
              "      <td>how many people does it take to change a light...</td>\n",
              "      <td>a brazillion</td>\n",
              "    </tr>\n",
              "  </tbody>\n",
              "</table>\n",
              "</div>"
            ],
            "text/plain": [
              "                                            Question  ...                                        AnswerClean\n",
              "0  How many Reddit admins does it take to change ...  ...        none they like to keep the mods in the dark\n",
              "1  How many police officers does it take to chang...  ...  none because they will just beat the room for ...\n",
              "2  How many Kings of Spain does it take to screw ...  ...                                             a juan\n",
              "3  How many Alzheimer's patients does it take to ...  ...                           to get to the other side\n",
              "4  How many people does it take to change a light...  ...                                       a brazillion\n",
              "\n",
              "[5 rows x 4 columns]"
            ]
          },
          "metadata": {
            "tags": []
          },
          "execution_count": 2
        }
      ]
    },
    {
      "cell_type": "code",
      "metadata": {
        "colab": {
          "base_uri": "https://localhost:8080/"
        },
        "id": "Xxn1VKtJzcfa",
        "outputId": "3fc79454-ff6a-41fe-c6cc-a5abbf8344e4"
      },
      "source": [
        "!pip install symspellpy"
      ],
      "execution_count": null,
      "outputs": [
        {
          "output_type": "stream",
          "text": [
            "Collecting symspellpy\n",
            "\u001b[?25l  Downloading https://files.pythonhosted.org/packages/99/af/e71fcca6a42b6a63f518b0c1627e1f67822815cb0cf71e6af05acbd75c78/symspellpy-6.7.0-py3-none-any.whl (2.6MB)\n",
            "\u001b[K     |████████████████████████████████| 2.6MB 9.2MB/s \n",
            "\u001b[?25hRequirement already satisfied: numpy>=1.13.1 in /usr/local/lib/python3.7/dist-packages (from symspellpy) (1.19.5)\n",
            "Installing collected packages: symspellpy\n",
            "Successfully installed symspellpy-6.7.0\n"
          ],
          "name": "stdout"
        }
      ]
    },
    {
      "cell_type": "code",
      "metadata": {
        "id": "SHoGcBhOzhNv"
      },
      "source": [
        "import pkg_resources\r\n",
        "from symspellpy import SymSpell, Verbosity\r\n",
        "\r\n",
        "sym_spell = SymSpell(max_dictionary_edit_distance=2, prefix_length=7)\r\n",
        "dictionary_path = pkg_resources.resource_filename(\"symspellpy\", \"frequency_dictionary_en_82_765.txt\")\r\n",
        "bigram_path = pkg_resources.resource_filename(\"symspellpy\", \"frequency_bigramdictionary_en_243_342.txt\")\r\n",
        "\r\n",
        "sym_spell.load_dictionary(dictionary_path, term_index=0, count_index=1)\r\n",
        "sym_spell.load_bigram_dictionary(bigram_path, term_index=0, count_index=2)\r\n",
        "\r\n",
        "# utility function\r\n",
        "def correct_spellings(text):\r\n",
        "    \" For a given sentence this function returns a sentence after correctecting spelling of words \"\r\n",
        "    suggestions = sym_spell.lookup_compound(text, max_edit_distance=2)\r\n",
        "\r\n",
        "    return suggestions[0]._term"
      ],
      "execution_count": null,
      "outputs": []
    },
    {
      "cell_type": "code",
      "metadata": {
        "colab": {
          "base_uri": "https://localhost:8080/",
          "height": 35
        },
        "id": "Za4wtjqXzkV1",
        "outputId": "f9901282-951f-4794-8b4e-f2c219c5df1c"
      },
      "source": [
        "\r\n",
        "correct_spellings(data['QuestionClean'].iloc[127])"
      ],
      "execution_count": null,
      "outputs": [
        {
          "output_type": "execute_result",
          "data": {
            "application/vnd.google.colaboratory.intrinsic+json": {
              "type": "string"
            },
            "text/plain": [
              "'how many police officers does it take to screw in a light bulb'"
            ]
          },
          "metadata": {
            "tags": []
          },
          "execution_count": 5
        }
      ]
    },
    {
      "cell_type": "code",
      "metadata": {
        "id": "wU1D4PMVznEv"
      },
      "source": [
        "data['QuestionClean']=data['QuestionClean'].astype('str')"
      ],
      "execution_count": null,
      "outputs": []
    },
    {
      "cell_type": "code",
      "metadata": {
        "colab": {
          "base_uri": "https://localhost:8080/"
        },
        "id": "GVYoQYiPzpLp",
        "outputId": "bd8aa785-0da8-46e8-c843-dfec72346657"
      },
      "source": [
        "tqdm.pandas()\r\n",
        "\r\n",
        "# Question's spelling correction\r\n",
        "data['clean_question'] = data['QuestionClean'].progress_apply(correct_spellings)"
      ],
      "execution_count": null,
      "outputs": [
        {
          "output_type": "stream",
          "text": [
            "100%|██████████| 304486/304486 [13:42<00:00, 370.29it/s]\n"
          ],
          "name": "stderr"
        }
      ]
    },
    {
      "cell_type": "code",
      "metadata": {
        "id": "dI7WBdI7zrAr"
      },
      "source": [
        "data['AnswerClean']=data['AnswerClean'].astype('str')"
      ],
      "execution_count": null,
      "outputs": []
    },
    {
      "cell_type": "code",
      "metadata": {
        "colab": {
          "base_uri": "https://localhost:8080/"
        },
        "id": "3jLEOn6Y3KrT",
        "outputId": "9e09522c-8754-48e3-b2ff-fea0d5fd4de5"
      },
      "source": [
        "data['clean_answer'] = data['AnswerClean'].progress_apply(correct_spellings)"
      ],
      "execution_count": null,
      "outputs": [
        {
          "output_type": "stream",
          "text": [
            "100%|██████████| 304486/304486 [3:40:03<00:00, 23.06it/s]\n"
          ],
          "name": "stderr"
        }
      ]
    },
    {
      "cell_type": "code",
      "metadata": {
        "id": "Hg-kP4MI3QWh"
      },
      "source": [
        "  TOSAVE = './preprocessed/'"
      ],
      "execution_count": null,
      "outputs": []
    },
    {
      "cell_type": "code",
      "metadata": {
        "colab": {
          "base_uri": "https://localhost:8080/",
          "height": 1000
        },
        "id": "D4t6WCTKmJr9",
        "outputId": "9375657f-a5ae-42e2-c6a3-7d094f7d095a"
      },
      "source": [
        "data.head(20)"
      ],
      "execution_count": null,
      "outputs": [
        {
          "output_type": "execute_result",
          "data": {
            "text/html": [
              "<div>\n",
              "<style scoped>\n",
              "    .dataframe tbody tr th:only-of-type {\n",
              "        vertical-align: middle;\n",
              "    }\n",
              "\n",
              "    .dataframe tbody tr th {\n",
              "        vertical-align: top;\n",
              "    }\n",
              "\n",
              "    .dataframe thead th {\n",
              "        text-align: right;\n",
              "    }\n",
              "</style>\n",
              "<table border=\"1\" class=\"dataframe\">\n",
              "  <thead>\n",
              "    <tr style=\"text-align: right;\">\n",
              "      <th></th>\n",
              "      <th>Question</th>\n",
              "      <th>Answer</th>\n",
              "      <th>QuestionClean</th>\n",
              "      <th>AnswerClean</th>\n",
              "      <th>clean_question</th>\n",
              "      <th>clean_answer</th>\n",
              "    </tr>\n",
              "  </thead>\n",
              "  <tbody>\n",
              "    <tr>\n",
              "      <th>0</th>\n",
              "      <td>How many Reddit admins does it take to change ...</td>\n",
              "      <td>None, they like to keep the mods in the dark.</td>\n",
              "      <td>how many reddit admins does it take to change ...</td>\n",
              "      <td>none they like to keep the mods in the dark</td>\n",
              "      <td>how many geddit admins does it take to change ...</td>\n",
              "      <td>none they like to keep the mods in the dark</td>\n",
              "    </tr>\n",
              "    <tr>\n",
              "      <th>1</th>\n",
              "      <td>How many police officers does it take to chang...</td>\n",
              "      <td>None, because they'll just beat the room for b...</td>\n",
              "      <td>how many police officers does it take to chang...</td>\n",
              "      <td>none because they will just beat the room for ...</td>\n",
              "      <td>how many police officers does it take to chang...</td>\n",
              "      <td>none because they will just beat the room for ...</td>\n",
              "    </tr>\n",
              "    <tr>\n",
              "      <th>2</th>\n",
              "      <td>How many Kings of Spain does it take to screw ...</td>\n",
              "      <td>A: Juan</td>\n",
              "      <td>how many kings of spain does it take to screw ...</td>\n",
              "      <td>a juan</td>\n",
              "      <td>how many kings of spain does it take to screw ...</td>\n",
              "      <td>a juan</td>\n",
              "    </tr>\n",
              "    <tr>\n",
              "      <th>3</th>\n",
              "      <td>How many Alzheimer's patients does it take to ...</td>\n",
              "      <td>TO GET TO THE OTHER SIDE!</td>\n",
              "      <td>how many alzheimer is patients does it take to...</td>\n",
              "      <td>to get to the other side</td>\n",
              "      <td>how many alzheimer is patients does it take to...</td>\n",
              "      <td>to get to the other side</td>\n",
              "    </tr>\n",
              "    <tr>\n",
              "      <th>4</th>\n",
              "      <td>How many people does it take to change a light...</td>\n",
              "      <td>A Brazillion!!! http://imgur.com/c4CJjUd</td>\n",
              "      <td>how many people does it take to change a light...</td>\n",
              "      <td>a brazillion</td>\n",
              "      <td>how many people does it take to change a light...</td>\n",
              "      <td>a bazillion</td>\n",
              "    </tr>\n",
              "    <tr>\n",
              "      <th>5</th>\n",
              "      <td>How many people with dementia does it take to ...</td>\n",
              "      <td>To get to the other side.</td>\n",
              "      <td>how many people with dementia does it take to ...</td>\n",
              "      <td>to get to the other side</td>\n",
              "      <td>how many people with dementia does it take to ...</td>\n",
              "      <td>to get to the other side</td>\n",
              "    </tr>\n",
              "    <tr>\n",
              "      <th>6</th>\n",
              "      <td>How many software engineers does it take to ch...</td>\n",
              "      <td>None. It's a hardware problem.</td>\n",
              "      <td>how many software engineers does it take to ch...</td>\n",
              "      <td>none it is a hardware problem</td>\n",
              "      <td>how many software engineers does it take to ch...</td>\n",
              "      <td>none it is a hardware problem</td>\n",
              "    </tr>\n",
              "    <tr>\n",
              "      <th>7</th>\n",
              "      <td>How many Honor Guards does it take to screw in...</td>\n",
              "      <td>A: 22 one to screw it in 21 to shoot the bulb.</td>\n",
              "      <td>how many honor guards does it take to screw in...</td>\n",
              "      <td>a one to screw it in to shoot the bulb</td>\n",
              "      <td>how many honor guards does it take to screw in...</td>\n",
              "      <td>a one to screw it in to shoot the bulb</td>\n",
              "    </tr>\n",
              "    <tr>\n",
              "      <th>8</th>\n",
              "      <td>How many McDonald's counter girls does it take...</td>\n",
              "      <td>Two. One to change it and one to put some chip...</td>\n",
              "      <td>how many mcdonald is counter girls does it tak...</td>\n",
              "      <td>two one to change it and one to put some chips...</td>\n",
              "      <td>how many mcdonald is counter girls does it tak...</td>\n",
              "      <td>two one to change it and one to put some chips...</td>\n",
              "    </tr>\n",
              "    <tr>\n",
              "      <th>9</th>\n",
              "      <td>How many Freuds does it take to screw in a lig...</td>\n",
              "      <td>Two. One to change the lightbulb and another t...</td>\n",
              "      <td>how many freuds does it take to screw in a lig...</td>\n",
              "      <td>two one to change the lightbulb and another to...</td>\n",
              "      <td>how many freud does it take to screw in a ligh...</td>\n",
              "      <td>two one to change the light bulb and another t...</td>\n",
              "    </tr>\n",
              "    <tr>\n",
              "      <th>10</th>\n",
              "      <td>How many South Americans does it take to screw...</td>\n",
              "      <td>A Brazilian</td>\n",
              "      <td>how many south americans does it take to screw...</td>\n",
              "      <td>a brazilian</td>\n",
              "      <td>how many south americans does it take to screw...</td>\n",
              "      <td>a brazilian</td>\n",
              "    </tr>\n",
              "    <tr>\n",
              "      <th>11</th>\n",
              "      <td>How many Harvard students does it take to chan...</td>\n",
              "      <td>One. He holds it up and the world revolves aro...</td>\n",
              "      <td>how many harvard students does it take to chan...</td>\n",
              "      <td>one he holds it up and the world revolves arou...</td>\n",
              "      <td>how many harvard students does it take to chan...</td>\n",
              "      <td>one he holds it up and the world revolves arou...</td>\n",
              "    </tr>\n",
              "    <tr>\n",
              "      <th>12</th>\n",
              "      <td>How many Chuck Norris' does it take to screw i...</td>\n",
              "      <td>None, no light bulb dare go out in the presenc...</td>\n",
              "      <td>how many chuck norris does it take to screw in...</td>\n",
              "      <td>none no light bulb dare go out in the presence...</td>\n",
              "      <td>how many chuck norris does it take to screw in...</td>\n",
              "      <td>none no light bulb dare go out in the presence...</td>\n",
              "    </tr>\n",
              "    <tr>\n",
              "      <th>13</th>\n",
              "      <td>How many teenagers does it take to screw in a ...</td>\n",
              "      <td>Whatever.</td>\n",
              "      <td>how many teenagers does it take to screw in a ...</td>\n",
              "      <td>whatever</td>\n",
              "      <td>how many teenagers does it take to screw in a ...</td>\n",
              "      <td>whatever</td>\n",
              "    </tr>\n",
              "    <tr>\n",
              "      <th>14</th>\n",
              "      <td>How many egoists does it take to change a ligh...</td>\n",
              "      <td>One. They simply hold the bulb and wait for th...</td>\n",
              "      <td>how many egoists does it take to change a ligh...</td>\n",
              "      <td>one they simply hold the bulb and wait for the...</td>\n",
              "      <td>how many egoist does it take to change a light...</td>\n",
              "      <td>one they simply hold the bulb and wait for the...</td>\n",
              "    </tr>\n",
              "    <tr>\n",
              "      <th>15</th>\n",
              "      <td>How many cops does it take to change a light b...</td>\n",
              "      <td>They don't, they just shoot the room for being...</td>\n",
              "      <td>how many cops does it take to change a light bulb</td>\n",
              "      <td>they do not they just shoot the room for being...</td>\n",
              "      <td>how many cops does it take to change a light bulb</td>\n",
              "      <td>they do not they just shoot the room for being...</td>\n",
              "    </tr>\n",
              "    <tr>\n",
              "      <th>16</th>\n",
              "      <td>How many Donald Trump supporters does it take ...</td>\n",
              "      <td>None, they've invented torches.</td>\n",
              "      <td>how many donald trump supporters does it take ...</td>\n",
              "      <td>none they have invented torches</td>\n",
              "      <td>how many donald trump supporters does it take ...</td>\n",
              "      <td>none they have invented torches</td>\n",
              "    </tr>\n",
              "    <tr>\n",
              "      <th>17</th>\n",
              "      <td>How many Stuntmen does it take to screw in a l...</td>\n",
              "      <td>A: Five. One to screw it in and four to tell h...</td>\n",
              "      <td>how many stuntmen does it take to screw in a l...</td>\n",
              "      <td>a five one to screw it in and four to tell him...</td>\n",
              "      <td>how many stuntmen does it take to screw in a l...</td>\n",
              "      <td>a five one to screw it in and four to tell him...</td>\n",
              "    </tr>\n",
              "    <tr>\n",
              "      <th>18</th>\n",
              "      <td>How many dadaists does it take to change a lig...</td>\n",
              "      <td>Giraffe.</td>\n",
              "      <td>how many dadaists does it take to change a lig...</td>\n",
              "      <td>giraffe</td>\n",
              "      <td>how many dadaist does it take to change a ligh...</td>\n",
              "      <td>giraffe</td>\n",
              "    </tr>\n",
              "    <tr>\n",
              "      <th>19</th>\n",
              "      <td>How many paranoids does it take to change a li...</td>\n",
              "      <td>Who wants to know</td>\n",
              "      <td>how many paranoids does it take to change a li...</td>\n",
              "      <td>who wants to know</td>\n",
              "      <td>how many paranoids does it take to change a li...</td>\n",
              "      <td>who wants to know</td>\n",
              "    </tr>\n",
              "  </tbody>\n",
              "</table>\n",
              "</div>"
            ],
            "text/plain": [
              "                                             Question  ...                                       clean_answer\n",
              "0   How many Reddit admins does it take to change ...  ...        none they like to keep the mods in the dark\n",
              "1   How many police officers does it take to chang...  ...  none because they will just beat the room for ...\n",
              "2   How many Kings of Spain does it take to screw ...  ...                                             a juan\n",
              "3   How many Alzheimer's patients does it take to ...  ...                           to get to the other side\n",
              "4   How many people does it take to change a light...  ...                                        a bazillion\n",
              "5   How many people with dementia does it take to ...  ...                           to get to the other side\n",
              "6   How many software engineers does it take to ch...  ...                      none it is a hardware problem\n",
              "7   How many Honor Guards does it take to screw in...  ...             a one to screw it in to shoot the bulb\n",
              "8   How many McDonald's counter girls does it take...  ...  two one to change it and one to put some chips...\n",
              "9   How many Freuds does it take to screw in a lig...  ...  two one to change the light bulb and another t...\n",
              "10  How many South Americans does it take to screw...  ...                                        a brazilian\n",
              "11  How many Harvard students does it take to chan...  ...  one he holds it up and the world revolves arou...\n",
              "12  How many Chuck Norris' does it take to screw i...  ...  none no light bulb dare go out in the presence...\n",
              "13  How many teenagers does it take to screw in a ...  ...                                           whatever\n",
              "14  How many egoists does it take to change a ligh...  ...  one they simply hold the bulb and wait for the...\n",
              "15  How many cops does it take to change a light b...  ...  they do not they just shoot the room for being...\n",
              "16  How many Donald Trump supporters does it take ...  ...                    none they have invented torches\n",
              "17  How many Stuntmen does it take to screw in a l...  ...  a five one to screw it in and four to tell him...\n",
              "18  How many dadaists does it take to change a lig...  ...                                            giraffe\n",
              "19  How many paranoids does it take to change a li...  ...                                  who wants to know\n",
              "\n",
              "[20 rows x 6 columns]"
            ]
          },
          "metadata": {
            "tags": []
          },
          "execution_count": 11
        }
      ]
    },
    {
      "cell_type": "code",
      "metadata": {
        "id": "HM04nZwhmPdt"
      },
      "source": [
        "data.drop(['QuestionClean','AnswerClean'],1,inplace=True)"
      ],
      "execution_count": null,
      "outputs": []
    },
    {
      "cell_type": "code",
      "metadata": {
        "colab": {
          "base_uri": "https://localhost:8080/",
          "height": 279
        },
        "id": "UgTZAAezmdzg",
        "outputId": "05620d08-72e0-4496-bcb0-6fe2221aefc5"
      },
      "source": [
        "data.head()"
      ],
      "execution_count": null,
      "outputs": [
        {
          "output_type": "execute_result",
          "data": {
            "text/html": [
              "<div>\n",
              "<style scoped>\n",
              "    .dataframe tbody tr th:only-of-type {\n",
              "        vertical-align: middle;\n",
              "    }\n",
              "\n",
              "    .dataframe tbody tr th {\n",
              "        vertical-align: top;\n",
              "    }\n",
              "\n",
              "    .dataframe thead th {\n",
              "        text-align: right;\n",
              "    }\n",
              "</style>\n",
              "<table border=\"1\" class=\"dataframe\">\n",
              "  <thead>\n",
              "    <tr style=\"text-align: right;\">\n",
              "      <th></th>\n",
              "      <th>Question</th>\n",
              "      <th>Answer</th>\n",
              "      <th>clean_question</th>\n",
              "      <th>clean_answer</th>\n",
              "    </tr>\n",
              "  </thead>\n",
              "  <tbody>\n",
              "    <tr>\n",
              "      <th>0</th>\n",
              "      <td>How many Reddit admins does it take to change ...</td>\n",
              "      <td>None, they like to keep the mods in the dark.</td>\n",
              "      <td>how many geddit admins does it take to change ...</td>\n",
              "      <td>none they like to keep the mods in the dark</td>\n",
              "    </tr>\n",
              "    <tr>\n",
              "      <th>1</th>\n",
              "      <td>How many police officers does it take to chang...</td>\n",
              "      <td>None, because they'll just beat the room for b...</td>\n",
              "      <td>how many police officers does it take to chang...</td>\n",
              "      <td>none because they will just beat the room for ...</td>\n",
              "    </tr>\n",
              "    <tr>\n",
              "      <th>2</th>\n",
              "      <td>How many Kings of Spain does it take to screw ...</td>\n",
              "      <td>A: Juan</td>\n",
              "      <td>how many kings of spain does it take to screw ...</td>\n",
              "      <td>a juan</td>\n",
              "    </tr>\n",
              "    <tr>\n",
              "      <th>3</th>\n",
              "      <td>How many Alzheimer's patients does it take to ...</td>\n",
              "      <td>TO GET TO THE OTHER SIDE!</td>\n",
              "      <td>how many alzheimer is patients does it take to...</td>\n",
              "      <td>to get to the other side</td>\n",
              "    </tr>\n",
              "    <tr>\n",
              "      <th>4</th>\n",
              "      <td>How many people does it take to change a light...</td>\n",
              "      <td>A Brazillion!!! http://imgur.com/c4CJjUd</td>\n",
              "      <td>how many people does it take to change a light...</td>\n",
              "      <td>a bazillion</td>\n",
              "    </tr>\n",
              "  </tbody>\n",
              "</table>\n",
              "</div>"
            ],
            "text/plain": [
              "                                            Question  ...                                       clean_answer\n",
              "0  How many Reddit admins does it take to change ...  ...        none they like to keep the mods in the dark\n",
              "1  How many police officers does it take to chang...  ...  none because they will just beat the room for ...\n",
              "2  How many Kings of Spain does it take to screw ...  ...                                             a juan\n",
              "3  How many Alzheimer's patients does it take to ...  ...                           to get to the other side\n",
              "4  How many people does it take to change a light...  ...                                        a bazillion\n",
              "\n",
              "[5 rows x 4 columns]"
            ]
          },
          "metadata": {
            "tags": []
          },
          "execution_count": 13
        }
      ]
    },
    {
      "cell_type": "code",
      "metadata": {
        "id": "eLxt500kmfHF"
      },
      "source": [
        "pickle.dump(data, open('data_spell_corrected.pkl', 'wb'))"
      ],
      "execution_count": null,
      "outputs": []
    },
    {
      "cell_type": "code",
      "metadata": {
        "id": "EOjBMF3vmirp"
      },
      "source": [
        "df= pickle.load(open('data_spell_corrected.pkl', 'rb'))"
      ],
      "execution_count": null,
      "outputs": []
    },
    {
      "cell_type": "code",
      "metadata": {
        "colab": {
          "base_uri": "https://localhost:8080/"
        },
        "id": "7lYTYV30mp_w",
        "outputId": "de4fc3b3-06c7-49de-851b-e8ec5686b986"
      },
      "source": [
        "df.shape"
      ],
      "execution_count": null,
      "outputs": [
        {
          "output_type": "execute_result",
          "data": {
            "text/plain": [
              "(304486, 4)"
            ]
          },
          "metadata": {
            "tags": []
          },
          "execution_count": 18
        }
      ]
    },
    {
      "cell_type": "code",
      "metadata": {
        "colab": {
          "base_uri": "https://localhost:8080/"
        },
        "id": "DmCKKbEEms-f",
        "outputId": "23e04995-37fd-462b-d8e3-0145503679ce"
      },
      "source": [
        "from collections import Counter\r\n",
        "qsn_cnt = Counter()\r\n",
        "for text in df['clean_question'].values:\r\n",
        "    for word in text.split():\r\n",
        "        qsn_cnt[word] += 1\r\n",
        "\r\n",
        "qsn_dict = dict(qsn_cnt)\r\n",
        "\r\n",
        "len(qsn_dict.keys())"
      ],
      "execution_count": null,
      "outputs": [
        {
          "output_type": "execute_result",
          "data": {
            "text/plain": [
              "29881"
            ]
          },
          "metadata": {
            "tags": []
          },
          "execution_count": 33
        }
      ]
    },
    {
      "cell_type": "code",
      "metadata": {
        "colab": {
          "base_uri": "https://localhost:8080/"
        },
        "id": "yZjqEybwmwvn",
        "outputId": "70ec0f6c-97ab-4b40-8d32-c93ed3d1accb"
      },
      "source": [
        "from collections import Counter\r\n",
        "ans_cnt = Counter()\r\n",
        "for text in df['clean_answer'].values:\r\n",
        "    for word in text.split():\r\n",
        "        ans_cnt[word] += 1\r\n",
        "\r\n",
        "ans_dict = dict(ans_cnt)\r\n",
        "\r\n",
        "len(ans_dict.keys())"
      ],
      "execution_count": null,
      "outputs": [
        {
          "output_type": "execute_result",
          "data": {
            "text/plain": [
              "44541"
            ]
          },
          "metadata": {
            "tags": []
          },
          "execution_count": 34
        }
      ]
    },
    {
      "cell_type": "code",
      "metadata": {
        "id": "5cjPrUQem0B4"
      },
      "source": [
        "x = np.array(list(qsn_dict.values()))\r\n",
        "y = np.array(list(ans_dict.values()))"
      ],
      "execution_count": null,
      "outputs": []
    },
    {
      "cell_type": "code",
      "metadata": {
        "colab": {
          "base_uri": "https://localhost:8080/"
        },
        "id": "qEzDphmtm5l7",
        "outputId": "1d2942ef-d622-4631-e647-df0176edc85f"
      },
      "source": [
        "np.percentile(x, [25, 50, 75])"
      ],
      "execution_count": null,
      "outputs": [
        {
          "output_type": "execute_result",
          "data": {
            "text/plain": [
              "array([ 2.,  4., 17.])"
            ]
          },
          "metadata": {
            "tags": []
          },
          "execution_count": 36
        }
      ]
    },
    {
      "cell_type": "code",
      "metadata": {
        "colab": {
          "base_uri": "https://localhost:8080/"
        },
        "id": "ZDn787nKm7Wa",
        "outputId": "4c6951a1-10d2-4722-86c8-b5a1e565e827"
      },
      "source": [
        "np.percentile(y, [25, 50, 75])"
      ],
      "execution_count": null,
      "outputs": [
        {
          "output_type": "execute_result",
          "data": {
            "text/plain": [
              "array([ 2.,  6., 25.])"
            ]
          },
          "metadata": {
            "tags": []
          },
          "execution_count": 37
        }
      ]
    },
    {
      "cell_type": "code",
      "metadata": {
        "colab": {
          "base_uri": "https://localhost:8080/"
        },
        "id": "hu7yoJJUm8mO",
        "outputId": "b92bef75-1c52-448c-aa2a-b069c77594cd"
      },
      "source": [
        "print(np.percentile(x, [99+i/10 for i in range(10)]))\r\n",
        "\r\n",
        "print(np.percentile(y, [99+i/10 for i in range(10)]))"
      ],
      "execution_count": null,
      "outputs": [
        {
          "output_type": "stream",
          "text": [
            "[  923.8   1017.72  1229.76  1383.84  1685.44  2226.2   2693.6   3730.48\n",
            "  6119.76 13681.92]\n",
            "[ 2022.6   2247.12  2515.68  2929.06  3614.8   4323.6   5574.84  7647.12\n",
            " 13016.24 28303.34]\n"
          ],
          "name": "stdout"
        }
      ]
    },
    {
      "cell_type": "code",
      "metadata": {
        "id": "4Qz3u9H4m-WR"
      },
      "source": [
        "def remove_rare_words(sent, min_count, cnt_dict):\r\n",
        "    \"\"\" To remove rare words from texts \"\"\"\r\n",
        "    new_sent = ''\r\n",
        "    for word in sent.split():\r\n",
        "        try:\r\n",
        "            if cnt_dict[word]>min_count:\r\n",
        "                new_sent += word+' '\r\n",
        "            else:\r\n",
        "                new_sent += '<unk>'+' '\r\n",
        "        except:\r\n",
        "            new_sent += '<unk> '\r\n",
        "    return new_sent.strip()"
      ],
      "execution_count": null,
      "outputs": []
    },
    {
      "cell_type": "code",
      "metadata": {
        "colab": {
          "base_uri": "https://localhost:8080/",
          "height": 35
        },
        "id": "c8u82lPwnED8",
        "outputId": "e0953fb0-ce05-4430-cc0d-77a80762b412"
      },
      "source": [
        "remove_rare_words(\"hello subrata\", 2, qsn_dict)"
      ],
      "execution_count": null,
      "outputs": [
        {
          "output_type": "execute_result",
          "data": {
            "application/vnd.google.colaboratory.intrinsic+json": {
              "type": "string"
            },
            "text/plain": [
              "'hello <unk>'"
            ]
          },
          "metadata": {
            "tags": []
          },
          "execution_count": 40
        }
      ]
    },
    {
      "cell_type": "code",
      "metadata": {
        "id": "m6QEuFfXnF_i"
      },
      "source": [
        "tqdm.pandas()"
      ],
      "execution_count": null,
      "outputs": []
    },
    {
      "cell_type": "code",
      "metadata": {
        "id": "SUb2jcHGnHsa"
      },
      "source": [
        "# Removing rare words from texts\r\n",
        "\r\n",
        "#data['clean_question'] = data['clean_question'].progress_apply(remove_rare_words, args=(1, qsn_dict))\r\n",
        "#data['clean_answer'] = data['clean_answer'].apply(remove_rare_words, args=(2, ans_dict))"
      ],
      "execution_count": null,
      "outputs": []
    },
    {
      "cell_type": "code",
      "metadata": {
        "id": "xk86UwpNnMYg"
      },
      "source": [
        "#RESTRUCTURING DATA"
      ],
      "execution_count": null,
      "outputs": []
    },
    {
      "cell_type": "code",
      "metadata": {
        "id": "qJ-stMhtnQPq"
      },
      "source": [
        "df['clean_answer'] = '<start> ' + df['clean_answer'].astype(str) + ' <end>'"
      ],
      "execution_count": null,
      "outputs": []
    },
    {
      "cell_type": "code",
      "metadata": {
        "id": "JskWTqE7nSkN"
      },
      "source": [
        "df['qsn_len'] = df['clean_question'].apply(lambda x: len(x.split()))\r\n",
        "df['ans_len'] = df['clean_answer'].apply(lambda x: len(x.split()))"
      ],
      "execution_count": null,
      "outputs": []
    },
    {
      "cell_type": "code",
      "metadata": {
        "colab": {
          "base_uri": "https://localhost:8080/",
          "height": 279
        },
        "id": "jSfVmsl1nUc9",
        "outputId": "dad85507-60cf-471a-ddb1-ab928da040a8"
      },
      "source": [
        "df.head()"
      ],
      "execution_count": null,
      "outputs": [
        {
          "output_type": "execute_result",
          "data": {
            "text/html": [
              "<div>\n",
              "<style scoped>\n",
              "    .dataframe tbody tr th:only-of-type {\n",
              "        vertical-align: middle;\n",
              "    }\n",
              "\n",
              "    .dataframe tbody tr th {\n",
              "        vertical-align: top;\n",
              "    }\n",
              "\n",
              "    .dataframe thead th {\n",
              "        text-align: right;\n",
              "    }\n",
              "</style>\n",
              "<table border=\"1\" class=\"dataframe\">\n",
              "  <thead>\n",
              "    <tr style=\"text-align: right;\">\n",
              "      <th></th>\n",
              "      <th>Question</th>\n",
              "      <th>Answer</th>\n",
              "      <th>clean_question</th>\n",
              "      <th>clean_answer</th>\n",
              "      <th>qsn_len</th>\n",
              "      <th>ans_len</th>\n",
              "    </tr>\n",
              "  </thead>\n",
              "  <tbody>\n",
              "    <tr>\n",
              "      <th>0</th>\n",
              "      <td>How many Reddit admins does it take to change ...</td>\n",
              "      <td>None, they like to keep the mods in the dark.</td>\n",
              "      <td>how many geddit admins does it take to change ...</td>\n",
              "      <td>&lt;start&gt; none they like to keep the mods in the...</td>\n",
              "      <td>12</td>\n",
              "      <td>12</td>\n",
              "    </tr>\n",
              "    <tr>\n",
              "      <th>1</th>\n",
              "      <td>How many police officers does it take to chang...</td>\n",
              "      <td>None, because they'll just beat the room for b...</td>\n",
              "      <td>how many police officers does it take to chang...</td>\n",
              "      <td>&lt;start&gt; none because they will just beat the r...</td>\n",
              "      <td>12</td>\n",
              "      <td>13</td>\n",
              "    </tr>\n",
              "    <tr>\n",
              "      <th>2</th>\n",
              "      <td>How many Kings of Spain does it take to screw ...</td>\n",
              "      <td>A: Juan</td>\n",
              "      <td>how many kings of spain does it take to screw ...</td>\n",
              "      <td>&lt;start&gt; a juan &lt;end&gt;</td>\n",
              "      <td>14</td>\n",
              "      <td>4</td>\n",
              "    </tr>\n",
              "    <tr>\n",
              "      <th>3</th>\n",
              "      <td>How many Alzheimer's patients does it take to ...</td>\n",
              "      <td>TO GET TO THE OTHER SIDE!</td>\n",
              "      <td>how many alzheimer is patients does it take to...</td>\n",
              "      <td>&lt;start&gt; to get to the other side &lt;end&gt;</td>\n",
              "      <td>14</td>\n",
              "      <td>8</td>\n",
              "    </tr>\n",
              "    <tr>\n",
              "      <th>4</th>\n",
              "      <td>How many people does it take to change a light...</td>\n",
              "      <td>A Brazillion!!! http://imgur.com/c4CJjUd</td>\n",
              "      <td>how many people does it take to change a light...</td>\n",
              "      <td>&lt;start&gt; a bazillion &lt;end&gt;</td>\n",
              "      <td>13</td>\n",
              "      <td>4</td>\n",
              "    </tr>\n",
              "  </tbody>\n",
              "</table>\n",
              "</div>"
            ],
            "text/plain": [
              "                                            Question  ... ans_len\n",
              "0  How many Reddit admins does it take to change ...  ...      12\n",
              "1  How many police officers does it take to chang...  ...      13\n",
              "2  How many Kings of Spain does it take to screw ...  ...       4\n",
              "3  How many Alzheimer's patients does it take to ...  ...       8\n",
              "4  How many people does it take to change a light...  ...       4\n",
              "\n",
              "[5 rows x 6 columns]"
            ]
          },
          "metadata": {
            "tags": []
          },
          "execution_count": 46
        }
      ]
    },
    {
      "cell_type": "code",
      "metadata": {
        "colab": {
          "base_uri": "https://localhost:8080/"
        },
        "id": "ISoIPKUNnn1C",
        "outputId": "1dc2b3e0-d251-4c36-c895-497d1197e3b6"
      },
      "source": [
        "np.percentile(df['qsn_len'].values, [25, 50, 75, 90, 95, 99])"
      ],
      "execution_count": null,
      "outputs": [
        {
          "output_type": "execute_result",
          "data": {
            "text/plain": [
              "array([ 6.,  9., 11., 14., 17., 26.])"
            ]
          },
          "metadata": {
            "tags": []
          },
          "execution_count": 48
        }
      ]
    },
    {
      "cell_type": "code",
      "metadata": {
        "colab": {
          "base_uri": "https://localhost:8080/"
        },
        "id": "kIZ2d85AnuHx",
        "outputId": "a49790ab-10c9-43d8-8e89-adc4492e5b7a"
      },
      "source": [
        "np.percentile(df['ans_len'].values, [25, 50, 75, 90, 95, 99])"
      ],
      "execution_count": null,
      "outputs": [
        {
          "output_type": "execute_result",
          "data": {
            "text/plain": [
              "array([  6.,   9.,  17.,  71., 147., 305.])"
            ]
          },
          "metadata": {
            "tags": []
          },
          "execution_count": 49
        }
      ]
    },
    {
      "cell_type": "code",
      "metadata": {
        "id": "kROdiV9GnyE2"
      },
      "source": [
        "# Parameters\r\n",
        "\r\n",
        "# fixing numpy RS\r\n",
        "np.random.seed(42)\r\n",
        "# fixing tensorflow RS\r\n",
        "tf.random.set_seed(32)\r\n",
        "# python RS\r\n",
        "rn.seed(12)\r\n",
        "\r\n",
        "# Taking maximum words 38\r\n",
        "MAXLEN = 39\r\n",
        "QSN_VOCAB_SIZE = 29881\r\n",
        "ANS_VOCAB_SIZE = 44541\r\n",
        "\r\n",
        "EMBEDDING_SIZE = 300"
      ],
      "execution_count": null,
      "outputs": []
    },
    {
      "cell_type": "code",
      "metadata": {
        "colab": {
          "base_uri": "https://localhost:8080/",
          "height": 195
        },
        "id": "1rP6K_cqn2j6",
        "outputId": "628cb7a7-6130-432d-f777-3ce30f0be408"
      },
      "source": [
        "df = df[(df['qsn_len']>2) & (df['qsn_len'] <= MAXLEN)]\r\n",
        "df = df[(df['ans_len']>2) & (df['ans_len'] <= MAXLEN)]\r\n",
        "\r\n",
        "# Decoder outpu data\r\n",
        "df['answer_out'] = df['clean_answer'].apply(lambda x: \" \".join(x.split()[1:]))\r\n",
        "\r\n",
        "# Selecting necessary columns\r\n",
        "df = df[['clean_question', 'clean_answer', 'answer_out']].copy()\r\n",
        "df.rename(columns={'clean_question':'question', 'clean_answer':'answer_inp'}, inplace=True)\r\n",
        "\r\n",
        "df.head()"
      ],
      "execution_count": null,
      "outputs": [
        {
          "output_type": "execute_result",
          "data": {
            "text/html": [
              "<div>\n",
              "<style scoped>\n",
              "    .dataframe tbody tr th:only-of-type {\n",
              "        vertical-align: middle;\n",
              "    }\n",
              "\n",
              "    .dataframe tbody tr th {\n",
              "        vertical-align: top;\n",
              "    }\n",
              "\n",
              "    .dataframe thead th {\n",
              "        text-align: right;\n",
              "    }\n",
              "</style>\n",
              "<table border=\"1\" class=\"dataframe\">\n",
              "  <thead>\n",
              "    <tr style=\"text-align: right;\">\n",
              "      <th></th>\n",
              "      <th>question</th>\n",
              "      <th>answer_inp</th>\n",
              "      <th>answer_out</th>\n",
              "    </tr>\n",
              "  </thead>\n",
              "  <tbody>\n",
              "    <tr>\n",
              "      <th>0</th>\n",
              "      <td>how many geddit admins does it take to change ...</td>\n",
              "      <td>&lt;start&gt; none they like to keep the mods in the...</td>\n",
              "      <td>none they like to keep the mods in the dark &lt;end&gt;</td>\n",
              "    </tr>\n",
              "    <tr>\n",
              "      <th>1</th>\n",
              "      <td>how many police officers does it take to chang...</td>\n",
              "      <td>&lt;start&gt; none because they will just beat the r...</td>\n",
              "      <td>none because they will just beat the room for ...</td>\n",
              "    </tr>\n",
              "    <tr>\n",
              "      <th>2</th>\n",
              "      <td>how many kings of spain does it take to screw ...</td>\n",
              "      <td>&lt;start&gt; a juan &lt;end&gt;</td>\n",
              "      <td>a juan &lt;end&gt;</td>\n",
              "    </tr>\n",
              "    <tr>\n",
              "      <th>3</th>\n",
              "      <td>how many alzheimer is patients does it take to...</td>\n",
              "      <td>&lt;start&gt; to get to the other side &lt;end&gt;</td>\n",
              "      <td>to get to the other side &lt;end&gt;</td>\n",
              "    </tr>\n",
              "    <tr>\n",
              "      <th>4</th>\n",
              "      <td>how many people does it take to change a light...</td>\n",
              "      <td>&lt;start&gt; a bazillion &lt;end&gt;</td>\n",
              "      <td>a bazillion &lt;end&gt;</td>\n",
              "    </tr>\n",
              "  </tbody>\n",
              "</table>\n",
              "</div>"
            ],
            "text/plain": [
              "                                            question  ...                                         answer_out\n",
              "0  how many geddit admins does it take to change ...  ...  none they like to keep the mods in the dark <end>\n",
              "1  how many police officers does it take to chang...  ...  none because they will just beat the room for ...\n",
              "2  how many kings of spain does it take to screw ...  ...                                       a juan <end>\n",
              "3  how many alzheimer is patients does it take to...  ...                     to get to the other side <end>\n",
              "4  how many people does it take to change a light...  ...                                  a bazillion <end>\n",
              "\n",
              "[5 rows x 3 columns]"
            ]
          },
          "metadata": {
            "tags": []
          },
          "execution_count": 52
        }
      ]
    },
    {
      "cell_type": "code",
      "metadata": {
        "colab": {
          "base_uri": "https://localhost:8080/",
          "height": 35
        },
        "id": "O2Cz4TWCoOOT",
        "outputId": "39406347-7157-4f2e-8c91-e8340a75b9a9"
      },
      "source": [
        "df['answer_inp'].iloc[10]"
      ],
      "execution_count": null,
      "outputs": [
        {
          "output_type": "execute_result",
          "data": {
            "application/vnd.google.colaboratory.intrinsic+json": {
              "type": "string"
            },
            "text/plain": [
              "'<start> a brazilian <end>'"
            ]
          },
          "metadata": {
            "tags": []
          },
          "execution_count": 53
        }
      ]
    },
    {
      "cell_type": "code",
      "metadata": {
        "colab": {
          "base_uri": "https://localhost:8080/",
          "height": 35
        },
        "id": "Vc6Kqcr5oWID",
        "outputId": "9e97e95d-98cf-495b-ec99-41bebba8ab54"
      },
      "source": [
        "df['answer_out'].iloc[10]"
      ],
      "execution_count": null,
      "outputs": [
        {
          "output_type": "execute_result",
          "data": {
            "application/vnd.google.colaboratory.intrinsic+json": {
              "type": "string"
            },
            "text/plain": [
              "'a brazilian <end>'"
            ]
          },
          "metadata": {
            "tags": []
          },
          "execution_count": 54
        }
      ]
    },
    {
      "cell_type": "code",
      "metadata": {
        "colab": {
          "base_uri": "https://localhost:8080/"
        },
        "id": "548wZkANoY19",
        "outputId": "aa7c3b4d-e952-494e-c746-7ed6ae9ae804"
      },
      "source": [
        "from sklearn.model_selection import train_test_split\r\n",
        "train, validation = train_test_split(df, test_size=0.25, random_state=16)\r\n",
        "\r\n",
        "train.shape, validation.shape"
      ],
      "execution_count": null,
      "outputs": [
        {
          "output_type": "execute_result",
          "data": {
            "text/plain": [
              "((191831, 3), (63944, 3))"
            ]
          },
          "metadata": {
            "tags": []
          },
          "execution_count": 55
        }
      ]
    },
    {
      "cell_type": "code",
      "metadata": {
        "id": "-ahr6L_4ocHS"
      },
      "source": [
        "pickle.dump((train, validation), open('spelldata_train_val.pkl', 'wb'))"
      ],
      "execution_count": null,
      "outputs": []
    },
    {
      "cell_type": "code",
      "metadata": {
        "id": "lvaB_wzvokJj"
      },
      "source": [
        "train, validation = pickle.load(open('spelldata_train_val.pkl', 'rb'))"
      ],
      "execution_count": null,
      "outputs": []
    },
    {
      "cell_type": "code",
      "metadata": {
        "colab": {
          "base_uri": "https://localhost:8080/",
          "height": 195
        },
        "id": "LdCQXJRBooyx",
        "outputId": "87460fc8-8650-4571-92cd-c8cde5d30ef5"
      },
      "source": [
        "train.head()"
      ],
      "execution_count": null,
      "outputs": [
        {
          "output_type": "execute_result",
          "data": {
            "text/html": [
              "<div>\n",
              "<style scoped>\n",
              "    .dataframe tbody tr th:only-of-type {\n",
              "        vertical-align: middle;\n",
              "    }\n",
              "\n",
              "    .dataframe tbody tr th {\n",
              "        vertical-align: top;\n",
              "    }\n",
              "\n",
              "    .dataframe thead th {\n",
              "        text-align: right;\n",
              "    }\n",
              "</style>\n",
              "<table border=\"1\" class=\"dataframe\">\n",
              "  <thead>\n",
              "    <tr style=\"text-align: right;\">\n",
              "      <th></th>\n",
              "      <th>question</th>\n",
              "      <th>answer_inp</th>\n",
              "      <th>answer_out</th>\n",
              "    </tr>\n",
              "  </thead>\n",
              "  <tbody>\n",
              "    <tr>\n",
              "      <th>252962</th>\n",
              "      <td>what do you call a priest giving a long boring...</td>\n",
              "      <td>&lt;start&gt; an ones theol gist close enough &lt;end&gt;</td>\n",
              "      <td>an ones theol gist close enough &lt;end&gt;</td>\n",
              "    </tr>\n",
              "    <tr>\n",
              "      <th>733</th>\n",
              "      <td>how many democrats does it take to change a li...</td>\n",
              "      <td>&lt;start&gt; it only takes one but we were not able...</td>\n",
              "      <td>it only takes one but we were not able to get ...</td>\n",
              "    </tr>\n",
              "    <tr>\n",
              "      <th>125874</th>\n",
              "      <td>then there was the olympic sprinter that teste...</td>\n",
              "      <td>&lt;start&gt; he tripped during the dash and won gol...</td>\n",
              "      <td>he tripped during the dash and won gold in the...</td>\n",
              "    </tr>\n",
              "    <tr>\n",
              "      <th>208939</th>\n",
              "      <td>thought i could put dolphin in my fish pie</td>\n",
              "      <td>&lt;start&gt; until i noticed i was using all porpoi...</td>\n",
              "      <td>until i noticed i was using all porpoise flour...</td>\n",
              "    </tr>\n",
              "    <tr>\n",
              "      <th>156321</th>\n",
              "      <td>top showboat players in football volume</td>\n",
              "      <td>&lt;start&gt; hah shah &lt;end&gt;</td>\n",
              "      <td>hah shah &lt;end&gt;</td>\n",
              "    </tr>\n",
              "  </tbody>\n",
              "</table>\n",
              "</div>"
            ],
            "text/plain": [
              "                                                 question  ...                                         answer_out\n",
              "252962  what do you call a priest giving a long boring...  ...              an ones theol gist close enough <end>\n",
              "733     how many democrats does it take to change a li...  ...  it only takes one but we were not able to get ...\n",
              "125874  then there was the olympic sprinter that teste...  ...  he tripped during the dash and won gold in the...\n",
              "208939         thought i could put dolphin in my fish pie  ...  until i noticed i was using all porpoise flour...\n",
              "156321            top showboat players in football volume  ...                                     hah shah <end>\n",
              "\n",
              "[5 rows x 3 columns]"
            ]
          },
          "metadata": {
            "tags": []
          },
          "execution_count": 58
        }
      ]
    },
    {
      "cell_type": "code",
      "metadata": {
        "id": "dCzvQc3voqQm"
      },
      "source": [
        "enc_tokenizer = Tokenizer(filters='', oov_token='<unk>')\r\n",
        "enc_tokenizer.fit_on_texts(train['question'].values)\r\n",
        "\r\n",
        "dec_tokenizer = Tokenizer(filters='', oov_token='<unk>')\r\n",
        "dec_tokenizer.fit_on_texts(train['answer_inp'].values)"
      ],
      "execution_count": null,
      "outputs": []
    },
    {
      "cell_type": "code",
      "metadata": {
        "id": "gefq5YJtotr5"
      },
      "source": [
        "pickle.dump((enc_tokenizer, dec_tokenizer), open('spelltokenizer_obj.pkl', 'wb'))"
      ],
      "execution_count": null,
      "outputs": []
    },
    {
      "cell_type": "code",
      "metadata": {
        "id": "Fqi5s0Bno0aQ"
      },
      "source": [
        "enc_tokenizer, dec_tokenizer = pickle.load(open('spelltokenizer_obj.pkl', 'rb'))"
      ],
      "execution_count": null,
      "outputs": []
    },
    {
      "cell_type": "code",
      "metadata": {
        "colab": {
          "base_uri": "https://localhost:8080/"
        },
        "id": "yjfgLplDo6KN",
        "outputId": "d3af452f-30ff-49a7-ea00-487138da1543"
      },
      "source": [
        "vocab_size_qsn = len(enc_tokenizer.word_index.keys())\r\n",
        "vocab_size_ans = len(dec_tokenizer.word_index.keys())\r\n",
        "\r\n",
        "print(vocab_size_qsn, vocab_size_ans)"
      ],
      "execution_count": null,
      "outputs": [
        {
          "output_type": "stream",
          "text": [
            "26310 27946\n"
          ],
          "name": "stdout"
        }
      ]
    },
    {
      "cell_type": "code",
      "metadata": {
        "colab": {
          "base_uri": "https://localhost:8080/"
        },
        "id": "-mmUvN3fo78v",
        "outputId": "b98b2f1b-f63f-4507-fa08-e1750bc4b3a5"
      },
      "source": [
        "dec_tokenizer.word_index['<unk>'], dec_tokenizer.word_index['<start>'], dec_tokenizer.word_index['<end>']"
      ],
      "execution_count": null,
      "outputs": [
        {
          "output_type": "execute_result",
          "data": {
            "text/plain": [
              "(1, 2, 3)"
            ]
          },
          "metadata": {
            "tags": []
          },
          "execution_count": 63
        }
      ]
    },
    {
      "cell_type": "code",
      "metadata": {
        "colab": {
          "base_uri": "https://localhost:8080/"
        },
        "id": "sKdJ0gN6pEAQ",
        "outputId": "e52d1d92-ce2e-4242-cb83-f140f63ff81d"
      },
      "source": [
        "enc_tokenizer.word_index['<unk>']"
      ],
      "execution_count": null,
      "outputs": [
        {
          "output_type": "execute_result",
          "data": {
            "text/plain": [
              "1"
            ]
          },
          "metadata": {
            "tags": []
          },
          "execution_count": 64
        }
      ]
    },
    {
      "cell_type": "code",
      "metadata": {
        "id": "-1EqexTbpFjR"
      },
      "source": [
        "train_encoder_inp = enc_tokenizer.texts_to_sequences(train['question'])\r\n",
        "train_encoder_inp = pad_sequences(train_encoder_inp, maxlen=MAXLEN, padding='post')\r\n",
        "\r\n",
        "train_decoder_inp = dec_tokenizer.texts_to_sequences(train['answer_inp'])\r\n",
        "train_decoder_inp = pad_sequences(train_decoder_inp, maxlen=MAXLEN, padding='post')\r\n",
        "\r\n",
        "train_decoder_out = dec_tokenizer.texts_to_sequences(train['answer_out'])\r\n",
        "train_decoder_out = pad_sequences(train_decoder_out, maxlen=MAXLEN, padding='post')"
      ],
      "execution_count": null,
      "outputs": []
    },
    {
      "cell_type": "code",
      "metadata": {
        "colab": {
          "base_uri": "https://localhost:8080/"
        },
        "id": "_wee9R_KpIV_",
        "outputId": "ed681890-7ce9-41c1-e837-e36cb476afe2"
      },
      "source": [
        "train_encoder_inp.shape, train_decoder_inp.shape, train_decoder_out.shape"
      ],
      "execution_count": null,
      "outputs": [
        {
          "output_type": "execute_result",
          "data": {
            "text/plain": [
              "((191831, 39), (191831, 39), (191831, 39))"
            ]
          },
          "metadata": {
            "tags": []
          },
          "execution_count": 66
        }
      ]
    },
    {
      "cell_type": "code",
      "metadata": {
        "id": "afvqjN6kpMc1"
      },
      "source": [
        "val_encoder_inp = enc_tokenizer.texts_to_sequences(validation['question'])\r\n",
        "val_encoder_inp = pad_sequences(val_encoder_inp, maxlen=MAXLEN, padding='post')\r\n",
        "\r\n",
        "val_decoder_inp = dec_tokenizer.texts_to_sequences(validation['answer_inp'])\r\n",
        "val_decoder_inp = pad_sequences(val_decoder_inp, maxlen=MAXLEN, padding='post')\r\n",
        "\r\n",
        "val_decoder_out = dec_tokenizer.texts_to_sequences(validation['answer_out'])\r\n",
        "val_decoder_out = pad_sequences(val_decoder_out, maxlen=MAXLEN, padding='post')"
      ],
      "execution_count": null,
      "outputs": []
    },
    {
      "cell_type": "code",
      "metadata": {
        "colab": {
          "base_uri": "https://localhost:8080/"
        },
        "id": "1ezk7t5hpOSF",
        "outputId": "091efdc9-8063-47e6-e73b-53f3824e0a5d"
      },
      "source": [
        "val_encoder_inp.shape, val_decoder_inp.shape, val_decoder_out.shape"
      ],
      "execution_count": null,
      "outputs": [
        {
          "output_type": "execute_result",
          "data": {
            "text/plain": [
              "((63944, 39), (63944, 39), (63944, 39))"
            ]
          },
          "metadata": {
            "tags": []
          },
          "execution_count": 68
        }
      ]
    },
    {
      "cell_type": "code",
      "metadata": {
        "id": "lWcyQPFtpQdp"
      },
      "source": [
        "pickle.dump((train_encoder_inp, train_decoder_inp, train_decoder_out), open('spelltrain_tokens.pkl', 'wb'))\r\n",
        "pickle.dump((val_encoder_inp, val_decoder_inp, val_decoder_out), open('spellval_token.pkl', 'wb'))"
      ],
      "execution_count": null,
      "outputs": []
    },
    {
      "cell_type": "code",
      "metadata": {
        "id": "jjwdRlbjpW1S"
      },
      "source": [
        "train_encoder_inp, train_decoder_inp, train_decoder_out = pickle.load(open('spelltrain_tokens.pkl', 'rb'))\r\n",
        "val_encoder_inp, val_decoder_inp, val_decoder_out = pickle.load(open('spellval_token.pkl', 'rb'))"
      ],
      "execution_count": null,
      "outputs": []
    },
    {
      "cell_type": "code",
      "metadata": {
        "colab": {
          "base_uri": "https://localhost:8080/"
        },
        "id": "bfMbrqkmpZFv",
        "outputId": "edd1c362-5751-4d19-c425-a81e492741b2"
      },
      "source": [
        "train_encoder_inp.shape, train_decoder_inp.shape, train_decoder_out.shape"
      ],
      "execution_count": null,
      "outputs": [
        {
          "output_type": "execute_result",
          "data": {
            "text/plain": [
              "((191831, 39), (191831, 39), (191831, 39))"
            ]
          },
          "metadata": {
            "tags": []
          },
          "execution_count": 72
        }
      ]
    },
    {
      "cell_type": "code",
      "metadata": {
        "colab": {
          "base_uri": "https://localhost:8080/"
        },
        "id": "o_rr17w7phwQ",
        "outputId": "358ed9ef-e417-48ce-f6a8-a6fc8429c5cc"
      },
      "source": [
        "val_encoder_inp.shape, val_decoder_inp.shape, val_decoder_out.shape"
      ],
      "execution_count": null,
      "outputs": [
        {
          "output_type": "execute_result",
          "data": {
            "text/plain": [
              "((63944, 39), (63944, 39), (63944, 39))"
            ]
          },
          "metadata": {
            "tags": []
          },
          "execution_count": 73
        }
      ]
    },
    {
      "cell_type": "code",
      "metadata": {
        "colab": {
          "base_uri": "https://localhost:8080/"
        },
        "id": "hAWagWo0pmSY",
        "outputId": "6a4a7bb9-b18c-4037-c72e-df3ff37f9e9c"
      },
      "source": [
        "!pip install fasttext"
      ],
      "execution_count": null,
      "outputs": [
        {
          "output_type": "stream",
          "text": [
            "Collecting fasttext\n",
            "\u001b[?25l  Downloading https://files.pythonhosted.org/packages/f8/85/e2b368ab6d3528827b147fdb814f8189acc981a4bc2f99ab894650e05c40/fasttext-0.9.2.tar.gz (68kB)\n",
            "\r\u001b[K     |████▊                           | 10kB 22.5MB/s eta 0:00:01\r\u001b[K     |█████████▌                      | 20kB 16.7MB/s eta 0:00:01\r\u001b[K     |██████████████▎                 | 30kB 14.5MB/s eta 0:00:01\r\u001b[K     |███████████████████             | 40kB 12.3MB/s eta 0:00:01\r\u001b[K     |███████████████████████▉        | 51kB 9.1MB/s eta 0:00:01\r\u001b[K     |████████████████████████████▋   | 61kB 9.3MB/s eta 0:00:01\r\u001b[K     |████████████████████████████████| 71kB 5.7MB/s \n",
            "\u001b[?25hRequirement already satisfied: pybind11>=2.2 in /usr/local/lib/python3.7/dist-packages (from fasttext) (2.6.2)\n",
            "Requirement already satisfied: setuptools>=0.7.0 in /usr/local/lib/python3.7/dist-packages (from fasttext) (53.0.0)\n",
            "Requirement already satisfied: numpy in /usr/local/lib/python3.7/dist-packages (from fasttext) (1.19.5)\n",
            "Building wheels for collected packages: fasttext\n",
            "  Building wheel for fasttext (setup.py) ... \u001b[?25l\u001b[?25hdone\n",
            "  Created wheel for fasttext: filename=fasttext-0.9.2-cp37-cp37m-linux_x86_64.whl size=3095019 sha256=3da14f9d0a5374b5648da7e0985b74242be03cc8dcea3090065344fac1742d1e\n",
            "  Stored in directory: /root/.cache/pip/wheels/98/ba/7f/b154944a1cf5a8cee91c154b75231136cc3a3321ab0e30f592\n",
            "Successfully built fasttext\n",
            "Installing collected packages: fasttext\n",
            "Successfully installed fasttext-0.9.2\n"
          ],
          "name": "stdout"
        }
      ]
    },
    {
      "cell_type": "code",
      "metadata": {
        "colab": {
          "base_uri": "https://localhost:8080/"
        },
        "id": "dNzQwtCqppr6",
        "outputId": "f4deb86f-13ef-4320-b4e4-b358beee682c"
      },
      "source": [
        "import fasttext\r\n",
        "import fasttext.util\r\n",
        "\r\n",
        "fasttext.util.download_model('en', if_exists='ignore')  # English\r\n",
        "ft = fasttext.load_model('cc.en.300.bin')\r\n"
      ],
      "execution_count": null,
      "outputs": [
        {
          "output_type": "stream",
          "text": [
            "Downloading https://dl.fbaipublicfiles.com/fasttext/vectors-crawl/cc.en.300.bin.gz\n"
          ],
          "name": "stdout"
        },
        {
          "output_type": "stream",
          "text": [
            "Warning : `load_model` does not return WordVectorModel or SupervisedModel any more, but a `FastText` object which is very similar.\n"
          ],
          "name": "stderr"
        }
      ]
    },
    {
      "cell_type": "code",
      "metadata": {
        "colab": {
          "base_uri": "https://localhost:8080/"
        },
        "id": "79dqp5gUp9sQ",
        "outputId": "00d4f214-52bc-44e8-a64a-ef708d4f5dfe"
      },
      "source": [
        "ft.get_dimension()"
      ],
      "execution_count": null,
      "outputs": [
        {
          "output_type": "execute_result",
          "data": {
            "text/plain": [
              "300"
            ]
          },
          "metadata": {
            "tags": []
          },
          "execution_count": 76
        }
      ]
    },
    {
      "cell_type": "code",
      "metadata": {
        "colab": {
          "base_uri": "https://localhost:8080/"
        },
        "id": "HZIWBtdeuHDl",
        "outputId": "8980ad8d-a893-4138-f2a2-46522d1cd78b"
      },
      "source": [
        "ft.get_word_vector('hello').shape"
      ],
      "execution_count": null,
      "outputs": [
        {
          "output_type": "execute_result",
          "data": {
            "text/plain": [
              "(300,)"
            ]
          },
          "metadata": {
            "tags": []
          },
          "execution_count": 77
        }
      ]
    },
    {
      "cell_type": "code",
      "metadata": {
        "id": "Pbm2LQGFuL2x"
      },
      "source": [
        "qsn_embedding_matrix = np.zeros((QSN_VOCAB_SIZE+1, 300))\r\n",
        "for word, i in enc_tokenizer.word_index.items():\r\n",
        "    embedding_vector = ft.get_word_vector(word)\r\n",
        "    if embedding_vector is not None:\r\n",
        "        qsn_embedding_matrix[i] = embedding_vector"
      ],
      "execution_count": null,
      "outputs": []
    },
    {
      "cell_type": "code",
      "metadata": {
        "colab": {
          "base_uri": "https://localhost:8080/"
        },
        "id": "xvqr24hKuNoZ",
        "outputId": "86aaaf61-0a0e-4cd4-eb5d-82e7638ece12"
      },
      "source": [
        "qsn_embedding_matrix.shape"
      ],
      "execution_count": null,
      "outputs": [
        {
          "output_type": "execute_result",
          "data": {
            "text/plain": [
              "(29882, 300)"
            ]
          },
          "metadata": {
            "tags": []
          },
          "execution_count": 79
        }
      ]
    },
    {
      "cell_type": "code",
      "metadata": {
        "id": "3d9x8e94uPdS"
      },
      "source": [
        "ans_embedding_matrix = np.zeros((ANS_VOCAB_SIZE+1, 300))\r\n",
        "for word, i in dec_tokenizer.word_index.items():\r\n",
        "    embedding_vector = ft.get_word_vector(word)\r\n",
        "    if embedding_vector is not None:\r\n",
        "        ans_embedding_matrix[i] = embedding_vector"
      ],
      "execution_count": null,
      "outputs": []
    },
    {
      "cell_type": "code",
      "metadata": {
        "colab": {
          "base_uri": "https://localhost:8080/"
        },
        "id": "r6PU0OT-uSFd",
        "outputId": "e29259e9-fc28-400a-8dbf-2230e16c100c"
      },
      "source": [
        "ans_embedding_matrix.shape"
      ],
      "execution_count": null,
      "outputs": [
        {
          "output_type": "execute_result",
          "data": {
            "text/plain": [
              "(44542, 300)"
            ]
          },
          "metadata": {
            "tags": []
          },
          "execution_count": 81
        }
      ]
    },
    {
      "cell_type": "code",
      "metadata": {
        "id": "3xjjrg5MuT55"
      },
      "source": [
        "pickle.dump((qsn_embedding_matrix, ans_embedding_matrix), open('spellembedding_matrix.pkl', 'wb'))"
      ],
      "execution_count": null,
      "outputs": []
    },
    {
      "cell_type": "code",
      "metadata": {
        "id": "b-NGQqouuXlg"
      },
      "source": [
        "qsn_embedding_matrix1, ans_embedding_matrix1 = pickle.load(open('spellembedding_matrix.pkl', 'rb'))"
      ],
      "execution_count": null,
      "outputs": []
    },
    {
      "cell_type": "code",
      "metadata": {
        "id": "hqihAJ6NukCf",
        "colab": {
          "base_uri": "https://localhost:8080/"
        },
        "outputId": "f2bea0c6-2520-4fd6-a2bf-8ea1ef2de415"
      },
      "source": [
        ""
      ],
      "execution_count": null,
      "outputs": [
        {
          "output_type": "execute_result",
          "data": {
            "text/plain": [
              "array([[ 0.        ,  0.        ,  0.        , ...,  0.        ,\n",
              "         0.        ,  0.        ],\n",
              "       [ 0.01587803, -0.0225705 , -0.07099195, ...,  0.03178637,\n",
              "         0.02778677,  0.00359863],\n",
              "       [ 0.08764305, -0.49590126, -0.04985499, ...,  0.53485096,\n",
              "        -0.05581036, -0.01659843],\n",
              "       ...,\n",
              "       [ 0.        ,  0.        ,  0.        , ...,  0.        ,\n",
              "         0.        ,  0.        ],\n",
              "       [ 0.        ,  0.        ,  0.        , ...,  0.        ,\n",
              "         0.        ,  0.        ],\n",
              "       [ 0.        ,  0.        ,  0.        , ...,  0.        ,\n",
              "         0.        ,  0.        ]])"
            ]
          },
          "metadata": {
            "tags": []
          },
          "execution_count": 85
        }
      ]
    },
    {
      "cell_type": "code",
      "metadata": {
        "id": "VGr25oYqumjJ"
      },
      "source": [
        ""
      ],
      "execution_count": null,
      "outputs": []
    }
  ]
}